{
 "cells": [
  {
   "cell_type": "code",
   "execution_count": 1,
   "metadata": {},
   "outputs": [
    {
     "data": {
      "text/html": [
       "<div>\n",
       "<style scoped>\n",
       "    .dataframe tbody tr th:only-of-type {\n",
       "        vertical-align: middle;\n",
       "    }\n",
       "\n",
       "    .dataframe tbody tr th {\n",
       "        vertical-align: top;\n",
       "    }\n",
       "\n",
       "    .dataframe thead th {\n",
       "        text-align: right;\n",
       "    }\n",
       "</style>\n",
       "<table border=\"1\" class=\"dataframe\">\n",
       "  <thead>\n",
       "    <tr style=\"text-align: right;\">\n",
       "      <th></th>\n",
       "      <th>questionId</th>\n",
       "      <th>question</th>\n",
       "      <th>image</th>\n",
       "      <th>docId</th>\n",
       "      <th>ucsf_document_id</th>\n",
       "      <th>ucsf_document_page_no</th>\n",
       "      <th>answers</th>\n",
       "      <th>data_split</th>\n",
       "    </tr>\n",
       "  </thead>\n",
       "  <tbody>\n",
       "    <tr>\n",
       "      <th>0</th>\n",
       "      <td>49153</td>\n",
       "      <td>What is the ‘actual’ value per 1000, during th...</td>\n",
       "      <td>documents/pybv0228_81.png</td>\n",
       "      <td>14465</td>\n",
       "      <td>pybv0228</td>\n",
       "      <td>81</td>\n",
       "      <td>[0.28]</td>\n",
       "      <td>val</td>\n",
       "    </tr>\n",
       "    <tr>\n",
       "      <th>1</th>\n",
       "      <td>24580</td>\n",
       "      <td>What is name of university?</td>\n",
       "      <td>documents/nkbl0226_1.png</td>\n",
       "      <td>7027</td>\n",
       "      <td>nkbl0226</td>\n",
       "      <td>1</td>\n",
       "      <td>[university of california, University of Calif...</td>\n",
       "      <td>val</td>\n",
       "    </tr>\n",
       "    <tr>\n",
       "      <th>2</th>\n",
       "      <td>57349</td>\n",
       "      <td>What is the name of the company?</td>\n",
       "      <td>documents/snbx0223_22.png</td>\n",
       "      <td>4733</td>\n",
       "      <td>snbx0223</td>\n",
       "      <td>22</td>\n",
       "      <td>[itc limited, ITC Limited]</td>\n",
       "      <td>val</td>\n",
       "    </tr>\n",
       "    <tr>\n",
       "      <th>3</th>\n",
       "      <td>24581</td>\n",
       "      <td>Where is the university located ?</td>\n",
       "      <td>documents/nkbl0226_1.png</td>\n",
       "      <td>7027</td>\n",
       "      <td>nkbl0226</td>\n",
       "      <td>1</td>\n",
       "      <td>[san diego, San Diego]</td>\n",
       "      <td>val</td>\n",
       "    </tr>\n",
       "    <tr>\n",
       "      <th>4</th>\n",
       "      <td>24582</td>\n",
       "      <td>To whom is the document sent?</td>\n",
       "      <td>documents/nkbl0226_1.png</td>\n",
       "      <td>7027</td>\n",
       "      <td>nkbl0226</td>\n",
       "      <td>1</td>\n",
       "      <td>[Paul]</td>\n",
       "      <td>val</td>\n",
       "    </tr>\n",
       "    <tr>\n",
       "      <th>...</th>\n",
       "      <td>...</td>\n",
       "      <td>...</td>\n",
       "      <td>...</td>\n",
       "      <td>...</td>\n",
       "      <td>...</td>\n",
       "      <td>...</td>\n",
       "      <td>...</td>\n",
       "      <td>...</td>\n",
       "    </tr>\n",
       "    <tr>\n",
       "      <th>5344</th>\n",
       "      <td>24564</td>\n",
       "      <td>who is the vice president and secretary ?</td>\n",
       "      <td>documents/ntnk0226_15.png</td>\n",
       "      <td>7020</td>\n",
       "      <td>ntnk0226</td>\n",
       "      <td>15</td>\n",
       "      <td>[Raymond C. Guth, Raymond c. Guth]</td>\n",
       "      <td>val</td>\n",
       "    </tr>\n",
       "    <tr>\n",
       "      <th>5345</th>\n",
       "      <td>49146</td>\n",
       "      <td>What is the ‘title’ of the plot?</td>\n",
       "      <td>documents/pybv0228_81.png</td>\n",
       "      <td>14465</td>\n",
       "      <td>pybv0228</td>\n",
       "      <td>81</td>\n",
       "      <td>[Age adjusted motor vehicle accident mortality...</td>\n",
       "      <td>val</td>\n",
       "    </tr>\n",
       "    <tr>\n",
       "      <th>5346</th>\n",
       "      <td>49147</td>\n",
       "      <td>What is ‘figure C.2.’?</td>\n",
       "      <td>documents/pybv0228_81.png</td>\n",
       "      <td>14465</td>\n",
       "      <td>pybv0228</td>\n",
       "      <td>81</td>\n",
       "      <td>[age adjusted motor vehicle accident mortality...</td>\n",
       "      <td>val</td>\n",
       "    </tr>\n",
       "    <tr>\n",
       "      <th>5347</th>\n",
       "      <td>49150</td>\n",
       "      <td>What is the maximum value at x axis?</td>\n",
       "      <td>documents/pybv0228_81.png</td>\n",
       "      <td>14465</td>\n",
       "      <td>pybv0228</td>\n",
       "      <td>81</td>\n",
       "      <td>[1980]</td>\n",
       "      <td>val</td>\n",
       "    </tr>\n",
       "    <tr>\n",
       "      <th>5348</th>\n",
       "      <td>49151</td>\n",
       "      <td>What is the ‘actual’ value per 1000, during th...</td>\n",
       "      <td>documents/pybv0228_81.png</td>\n",
       "      <td>14465</td>\n",
       "      <td>pybv0228</td>\n",
       "      <td>81</td>\n",
       "      <td>[0.24]</td>\n",
       "      <td>val</td>\n",
       "    </tr>\n",
       "  </tbody>\n",
       "</table>\n",
       "<p>5349 rows × 8 columns</p>\n",
       "</div>"
      ],
      "text/plain": [
       "      questionId                                           question   \n",
       "0          49153  What is the ‘actual’ value per 1000, during th...  \\\n",
       "1          24580                        What is name of university?   \n",
       "2          57349                   What is the name of the company?   \n",
       "3          24581                  Where is the university located ?   \n",
       "4          24582                      To whom is the document sent?   \n",
       "...          ...                                                ...   \n",
       "5344       24564          who is the vice president and secretary ?   \n",
       "5345       49146                   What is the ‘title’ of the plot?   \n",
       "5346       49147                             What is ‘figure C.2.’?   \n",
       "5347       49150               What is the maximum value at x axis?   \n",
       "5348       49151  What is the ‘actual’ value per 1000, during th...   \n",
       "\n",
       "                          image  docId ucsf_document_id ucsf_document_page_no   \n",
       "0     documents/pybv0228_81.png  14465         pybv0228                    81  \\\n",
       "1      documents/nkbl0226_1.png   7027         nkbl0226                     1   \n",
       "2     documents/snbx0223_22.png   4733         snbx0223                    22   \n",
       "3      documents/nkbl0226_1.png   7027         nkbl0226                     1   \n",
       "4      documents/nkbl0226_1.png   7027         nkbl0226                     1   \n",
       "...                         ...    ...              ...                   ...   \n",
       "5344  documents/ntnk0226_15.png   7020         ntnk0226                    15   \n",
       "5345  documents/pybv0228_81.png  14465         pybv0228                    81   \n",
       "5346  documents/pybv0228_81.png  14465         pybv0228                    81   \n",
       "5347  documents/pybv0228_81.png  14465         pybv0228                    81   \n",
       "5348  documents/pybv0228_81.png  14465         pybv0228                    81   \n",
       "\n",
       "                                                answers data_split  \n",
       "0                                                [0.28]        val  \n",
       "1     [university of california, University of Calif...        val  \n",
       "2                            [itc limited, ITC Limited]        val  \n",
       "3                                [san diego, San Diego]        val  \n",
       "4                                                [Paul]        val  \n",
       "...                                                 ...        ...  \n",
       "5344                 [Raymond C. Guth, Raymond c. Guth]        val  \n",
       "5345  [Age adjusted motor vehicle accident mortality...        val  \n",
       "5346  [age adjusted motor vehicle accident mortality...        val  \n",
       "5347                                             [1980]        val  \n",
       "5348                                             [0.24]        val  \n",
       "\n",
       "[5349 rows x 8 columns]"
      ]
     },
     "execution_count": 1,
     "metadata": {},
     "output_type": "execute_result"
    }
   ],
   "source": [
    "import json\n",
    "import pandas as pd\n",
    "\n",
    "with open('val_v1.0.json') as f:\n",
    "    data = json.load(f)\n",
    "\n",
    "data = data['data']\n",
    "df = pd.DataFrame(data)\n",
    "df"
   ]
  },
  {
   "cell_type": "code",
   "execution_count": 2,
   "metadata": {},
   "outputs": [
    {
     "name": "stderr",
     "output_type": "stream",
     "text": [
      "/var/folders/7q/qgypwzk535x3f_wvxqdpdbz40000gp/T/ipykernel_61363/4099873394.py:3: SettingWithCopyWarning: \n",
      "A value is trying to be set on a copy of a slice from a DataFrame.\n",
      "Try using .loc[row_indexer,col_indexer] = value instead\n",
      "\n",
      "See the caveats in the documentation: https://pandas.pydata.org/pandas-docs/stable/user_guide/indexing.html#returning-a-view-versus-a-copy\n",
      "  df[\"answer\"] = df[\"answers\"].apply(lambda x: x[0])\n"
     ]
    }
   ],
   "source": [
    "# select 2200 random rows from the table\n",
    "df = df[[\"question\", \"image\", \"answers\"]]\n",
    "df[\"answer\"] = df[\"answers\"].apply(lambda x: x[0])\n",
    "df = df.sample(n=2200, random_state=42)\n",
    "# convert all rows to strings\n",
    "df[\"question\"] = df[\"question\"].astype(str)\n",
    "df[\"answer\"] = df[\"answer\"].astype(str)\n",
    "df[\"image\"] = df[\"image\"].astype(str)\n",
    "df[:200].to_csv('seed.csv', index=False)\n",
    "df[200:].to_csv('test.csv', index=False)"
   ]
  },
  {
   "cell_type": "code",
   "execution_count": 3,
   "metadata": {},
   "outputs": [],
   "source": [
    "from autolabel import LabelingAgent, AutolabelConfig, AutolabelDataset"
   ]
  },
  {
   "cell_type": "code",
   "execution_count": 4,
   "metadata": {},
   "outputs": [],
   "source": [
    "config = {\n",
    "    \"task_name\": \"DocumentQuestionAnswering\",\n",
    "    \"task_type\": \"question_answering\",\n",
    "    \"dataset\": {\"delimiter\": \",\", \"label_column\": \"answer\"},\n",
    "    \"model\": {\"provider\": \"openai\", \"name\": \"gpt-3.5-turbo\"},\n",
    "    \"prompt\": {\n",
    "        \"task_guidelines\": \"You are an expert at reading documents and understanding their content. Your task is to answer questions about the content of the document. Use the document when answering the question. Do not rely on outside knowledge.\",\n",
    "        \"example_template\": \"Document Text: {text}\\nQuestion: {question}\\nAnswer: {answer}\",\n",
    "        \"few_shot_examples\": \"seed.csv\",\n",
    "        \"few_shot_selection\": \"semantic_similarity\",\n",
    "        \"few_shot_num\": 3,\n",
    "    },\n",
    "    \"transforms\": [\n",
    "        {\n",
    "            \"name\": \"image\",\n",
    "            \"output_columns\": {\"content_column\": \"text\", \"metadata_column\": \"metadata\"},\n",
    "            \"params\": {\"file_path_column\": \"image\", \"lang\": \"eng\"},\n",
    "        }\n",
    "    ],\n",
    "}"
   ]
  },
  {
   "cell_type": "code",
   "execution_count": 5,
   "metadata": {},
   "outputs": [],
   "source": [
    "import nest_asyncio\n",
    "nest_asyncio.apply()"
   ]
  },
  {
   "cell_type": "code",
   "execution_count": 6,
   "metadata": {},
   "outputs": [],
   "source": [
    "config = AutolabelConfig(config)"
   ]
  },
  {
   "cell_type": "code",
   "execution_count": 7,
   "metadata": {},
   "outputs": [
    {
     "data": {
      "application/vnd.jupyter.widget-view+json": {
       "model_id": "635fd6ee6810415782ca25567f740037",
       "version_major": 2,
       "version_minor": 0
      },
      "text/plain": [
       "Output()"
      ]
     },
     "metadata": {},
     "output_type": "display_data"
    },
    {
     "data": {
      "text/html": [
       "<pre style=\"white-space:pre;overflow-x:auto;line-height:normal;font-family:Menlo,'DejaVu Sans Mono',consolas,'Courier New',monospace\"></pre>\n"
      ],
      "text/plain": []
     },
     "metadata": {},
     "output_type": "display_data"
    },
    {
     "data": {
      "text/html": [
       "<pre style=\"white-space:pre;overflow-x:auto;line-height:normal;font-family:Menlo,'DejaVu Sans Mono',consolas,'Courier New',monospace\">\n",
       "</pre>\n"
      ],
      "text/plain": [
       "\n"
      ]
     },
     "metadata": {},
     "output_type": "display_data"
    },
    {
     "data": {
      "application/vnd.jupyter.widget-view+json": {
       "model_id": "e8ff23171e6d442ba2c389afc2136f32",
       "version_major": 2,
       "version_minor": 0
      },
      "text/plain": [
       "Output()"
      ]
     },
     "metadata": {},
     "output_type": "display_data"
    },
    {
     "data": {
      "text/html": [
       "<pre style=\"white-space:pre;overflow-x:auto;line-height:normal;font-family:Menlo,'DejaVu Sans Mono',consolas,'Courier New',monospace\"></pre>\n"
      ],
      "text/plain": []
     },
     "metadata": {},
     "output_type": "display_data"
    },
    {
     "data": {
      "text/html": [
       "<pre style=\"white-space:pre;overflow-x:auto;line-height:normal;font-family:Menlo,'DejaVu Sans Mono',consolas,'Courier New',monospace\">\n",
       "</pre>\n"
      ],
      "text/plain": [
       "\n"
      ]
     },
     "metadata": {},
     "output_type": "display_data"
    }
   ],
   "source": [
    "agent = LabelingAgent(config)\n",
    "\n",
    "seed_dataset = AutolabelDataset(\"seed.csv\", config)\n",
    "seed_dataset = agent.transform(seed_dataset)\n",
    "seed_dataset.df.to_csv(\"seed.csv\", index=False)\n",
    "\n",
    "dataset = AutolabelDataset(\"test.csv\", config, max_items=100)\n",
    "dataset = agent.transform(dataset)\n",
    "dataset.df.to_csv(\"test.csv\", index=False)"
   ]
  },
  {
   "cell_type": "code",
   "execution_count": 8,
   "metadata": {},
   "outputs": [
    {
     "name": "stdout",
     "output_type": "stream",
     "text": [
      "['question', 'image', 'answers', 'text', 'metadata']\n",
      "[\"['Depth (inches)', 'Depth']\", 'documents/rmwn0226_155.png', \"{'format': 'PNG', 'mode': 'L', 'size': (2200, 1700), 'width': 2200, 'height': 1700, 'exif': None}\", 'What is mentioned in the Y axis of this graph?', 'Depth (inches)\\n\\nCutting Longevity Test\\n\\n0.1 ms\\n\\n10 20 30 40 50\\n\\nNumber of cuts\\n\\n@ = eCurrent DePuy Bridgeback 410 Current DePuy Bridgeback Modified to 420\\n\\nDM\\nSource: https://www.industrydocuments.ucsf.edu/docs/rmwn0226\\n\\nP-09686-00155\\nDEPUY023042075\\n']\n"
     ]
    },
    {
     "ename": "TypeError",
     "evalue": "sequence item 4: expected str instance, float found",
     "output_type": "error",
     "traceback": [
      "\u001b[0;31m---------------------------------------------------------------------------\u001b[0m",
      "\u001b[0;31mTypeError\u001b[0m                                 Traceback (most recent call last)",
      "Cell \u001b[0;32mIn[8], line 2\u001b[0m\n\u001b[1;32m      1\u001b[0m agent \u001b[39m=\u001b[39m LabelingAgent(config)\n\u001b[0;32m----> 2\u001b[0m agent\u001b[39m.\u001b[39;49mplan(dataset)\n",
      "File \u001b[0;32m~/.pyenv/versions/3.8.16/envs/refuel/lib/python3.8/site-packages/autolabel/labeler.py:306\u001b[0m, in \u001b[0;36mLabelingAgent.plan\u001b[0;34m(self, dataset, max_items, start_index)\u001b[0m\n\u001b[1;32m    297\u001b[0m \u001b[39mif\u001b[39;00m (\n\u001b[1;32m    298\u001b[0m     \u001b[39mself\u001b[39m\u001b[39m.\u001b[39mconfig\u001b[39m.\u001b[39mexplanation_column()\n\u001b[1;32m    299\u001b[0m     \u001b[39mand\u001b[39;00m \u001b[39mlen\u001b[39m(seed_examples) \u001b[39m>\u001b[39m \u001b[39m0\u001b[39m\n\u001b[1;32m    300\u001b[0m     \u001b[39mand\u001b[39;00m \u001b[39mself\u001b[39m\u001b[39m.\u001b[39mconfig\u001b[39m.\u001b[39mexplanation_column() \u001b[39mnot\u001b[39;00m \u001b[39min\u001b[39;00m \u001b[39mlist\u001b[39m(seed_examples[\u001b[39m0\u001b[39m]\u001b[39m.\u001b[39mkeys())\n\u001b[1;32m    301\u001b[0m ):\n\u001b[1;32m    302\u001b[0m     \u001b[39mraise\u001b[39;00m \u001b[39mValueError\u001b[39;00m(\n\u001b[1;32m    303\u001b[0m         \u001b[39mf\u001b[39m\u001b[39m\"\u001b[39m\u001b[39mExplanation column \u001b[39m\u001b[39m{\u001b[39;00m\u001b[39mself\u001b[39m\u001b[39m.\u001b[39mconfig\u001b[39m.\u001b[39mexplanation_column()\u001b[39m}\u001b[39;00m\u001b[39m not found in dataset.\u001b[39m\u001b[39m\\n\u001b[39;00m\u001b[39mMake sure that explanations were generated using labeler.generate_explanations(seed_file).\u001b[39m\u001b[39m\"\u001b[39m\n\u001b[1;32m    304\u001b[0m     )\n\u001b[0;32m--> 306\u001b[0m \u001b[39mself\u001b[39m\u001b[39m.\u001b[39mexample_selector \u001b[39m=\u001b[39m ExampleSelectorFactory\u001b[39m.\u001b[39;49minitialize_selector(\n\u001b[1;32m    307\u001b[0m     \u001b[39mself\u001b[39;49m\u001b[39m.\u001b[39;49mconfig,\n\u001b[1;32m    308\u001b[0m     seed_examples,\n\u001b[1;32m    309\u001b[0m     dataset\u001b[39m.\u001b[39;49mdf\u001b[39m.\u001b[39;49mkeys()\u001b[39m.\u001b[39;49mtolist(),\n\u001b[1;32m    310\u001b[0m     cache\u001b[39m=\u001b[39;49m\u001b[39mself\u001b[39;49m\u001b[39m.\u001b[39;49mcache \u001b[39mis\u001b[39;49;00m \u001b[39mnot\u001b[39;49;00m \u001b[39mNone\u001b[39;49;00m,\n\u001b[1;32m    311\u001b[0m )\n\u001b[1;32m    313\u001b[0m input_limit \u001b[39m=\u001b[39m \u001b[39mmin\u001b[39m(\u001b[39mlen\u001b[39m(dataset\u001b[39m.\u001b[39minputs), \u001b[39m100\u001b[39m)\n\u001b[1;32m    314\u001b[0m \u001b[39mfor\u001b[39;00m input_i \u001b[39min\u001b[39;00m track(\n\u001b[1;32m    315\u001b[0m     dataset\u001b[39m.\u001b[39minputs[:input_limit],\n\u001b[1;32m    316\u001b[0m     description\u001b[39m=\u001b[39m\u001b[39m\"\u001b[39m\u001b[39mGenerating Prompts...\u001b[39m\u001b[39m\"\u001b[39m,\n\u001b[1;32m    317\u001b[0m     console\u001b[39m=\u001b[39mconsole,\n\u001b[1;32m    318\u001b[0m ):\n\u001b[1;32m    319\u001b[0m     \u001b[39m# TODO: Check if this needs to use the example selector\u001b[39;00m\n",
      "File \u001b[0;32m~/.pyenv/versions/3.8.16/envs/refuel/lib/python3.8/site-packages/autolabel/few_shot/__init__.py:113\u001b[0m, in \u001b[0;36mExampleSelectorFactory.initialize_selector\u001b[0;34m(config, examples, columns, cache)\u001b[0m\n\u001b[1;32m    107\u001b[0m \u001b[39mif\u001b[39;00m algorithm \u001b[39mnot\u001b[39;00m \u001b[39min\u001b[39;00m [\n\u001b[1;32m    108\u001b[0m     FewShotAlgorithm\u001b[39m.\u001b[39mFIXED,\n\u001b[1;32m    109\u001b[0m     FewShotAlgorithm\u001b[39m.\u001b[39mLABEL_DIVERSITY_RANDOM,\n\u001b[1;32m    110\u001b[0m ]:\n\u001b[1;32m    111\u001b[0m     params[\u001b[39m\"\u001b[39m\u001b[39mcache\u001b[39m\u001b[39m\"\u001b[39m] \u001b[39m=\u001b[39m cache\n\u001b[0;32m--> 113\u001b[0m \u001b[39mreturn\u001b[39;00m example_cls\u001b[39m.\u001b[39;49mfrom_examples(\u001b[39m*\u001b[39;49m\u001b[39m*\u001b[39;49mparams)\n",
      "File \u001b[0;32m~/.pyenv/versions/3.8.16/envs/refuel/lib/python3.8/site-packages/langchain/prompts/example_selector/semantic_similarity.py:92\u001b[0m, in \u001b[0;36mSemanticSimilarityExampleSelector.from_examples\u001b[0;34m(cls, examples, embeddings, vectorstore_cls, k, input_keys, **vectorstore_cls_kwargs)\u001b[0m\n\u001b[1;32m     90\u001b[0m \u001b[39mprint\u001b[39m(sorted_values({k: examples[\u001b[39m0\u001b[39m][k] \u001b[39mfor\u001b[39;00m k \u001b[39min\u001b[39;00m input_keys}))\n\u001b[1;32m     91\u001b[0m \u001b[39mif\u001b[39;00m input_keys:\n\u001b[0;32m---> 92\u001b[0m     string_examples \u001b[39m=\u001b[39m [\n\u001b[1;32m     93\u001b[0m         \u001b[39m\"\u001b[39m\u001b[39m \u001b[39m\u001b[39m\"\u001b[39m\u001b[39m.\u001b[39mjoin(sorted_values({k: eg[k] \u001b[39mfor\u001b[39;00m k \u001b[39min\u001b[39;00m input_keys}))\n\u001b[1;32m     94\u001b[0m         \u001b[39mfor\u001b[39;00m eg \u001b[39min\u001b[39;00m examples\n\u001b[1;32m     95\u001b[0m     ]\n\u001b[1;32m     96\u001b[0m \u001b[39melse\u001b[39;00m:\n\u001b[1;32m     97\u001b[0m     string_examples \u001b[39m=\u001b[39m [\u001b[39m\"\u001b[39m\u001b[39m \u001b[39m\u001b[39m\"\u001b[39m\u001b[39m.\u001b[39mjoin(sorted_values(eg)) \u001b[39mfor\u001b[39;00m eg \u001b[39min\u001b[39;00m examples]\n",
      "File \u001b[0;32m~/.pyenv/versions/3.8.16/envs/refuel/lib/python3.8/site-packages/langchain/prompts/example_selector/semantic_similarity.py:93\u001b[0m, in \u001b[0;36m<listcomp>\u001b[0;34m(.0)\u001b[0m\n\u001b[1;32m     90\u001b[0m \u001b[39mprint\u001b[39m(sorted_values({k: examples[\u001b[39m0\u001b[39m][k] \u001b[39mfor\u001b[39;00m k \u001b[39min\u001b[39;00m input_keys}))\n\u001b[1;32m     91\u001b[0m \u001b[39mif\u001b[39;00m input_keys:\n\u001b[1;32m     92\u001b[0m     string_examples \u001b[39m=\u001b[39m [\n\u001b[0;32m---> 93\u001b[0m         \u001b[39m\"\u001b[39;49m\u001b[39m \u001b[39;49m\u001b[39m\"\u001b[39;49m\u001b[39m.\u001b[39;49mjoin(sorted_values({k: eg[k] \u001b[39mfor\u001b[39;49;00m k \u001b[39min\u001b[39;49;00m input_keys}))\n\u001b[1;32m     94\u001b[0m         \u001b[39mfor\u001b[39;00m eg \u001b[39min\u001b[39;00m examples\n\u001b[1;32m     95\u001b[0m     ]\n\u001b[1;32m     96\u001b[0m \u001b[39melse\u001b[39;00m:\n\u001b[1;32m     97\u001b[0m     string_examples \u001b[39m=\u001b[39m [\u001b[39m\"\u001b[39m\u001b[39m \u001b[39m\u001b[39m\"\u001b[39m\u001b[39m.\u001b[39mjoin(sorted_values(eg)) \u001b[39mfor\u001b[39;00m eg \u001b[39min\u001b[39;00m examples]\n",
      "\u001b[0;31mTypeError\u001b[0m: sequence item 4: expected str instance, float found"
     ]
    }
   ],
   "source": [
    "agent = LabelingAgent(config)\n",
    "agent.plan(dataset)"
   ]
  }
 ],
 "metadata": {
  "kernelspec": {
   "display_name": "refuel",
   "language": "python",
   "name": "python3"
  },
  "language_info": {
   "codemirror_mode": {
    "name": "ipython",
    "version": 3
   },
   "file_extension": ".py",
   "mimetype": "text/x-python",
   "name": "python",
   "nbconvert_exporter": "python",
   "pygments_lexer": "ipython3",
   "version": "3.8.16"
  },
  "orig_nbformat": 4
 },
 "nbformat": 4,
 "nbformat_minor": 2
}
